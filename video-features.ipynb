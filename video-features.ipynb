{
 "cells": [
  {
   "cell_type": "markdown",
   "metadata": {},
   "source": [
    "# **Clustering | Human Activity**\n",
    "\n",
    "## **Load packages**"
   ]
  },
  {
   "cell_type": "code",
   "execution_count": 4,
   "metadata": {},
   "outputs": [],
   "source": [
    "import pandas as pd\n",
    "import os"
   ]
  },
  {
   "cell_type": "markdown",
   "metadata": {},
   "source": [
    "## **Load datasets**"
   ]
  },
  {
   "cell_type": "markdown",
   "metadata": {},
   "source": [
    "## **Useful functions**"
   ]
  },
  {
   "cell_type": "code",
   "execution_count": 19,
   "metadata": {},
   "outputs": [],
   "source": [
    "\n",
    "def rename_files(directories: list[str], path: str):\n",
    "\n",
    "    \"\"\"\n",
    "\n",
    "    Description:\n",
    "        This function renames files, just keeping the id of the video\n",
    "\n",
    "    Args:\n",
    "        directories (list[str]): array of str, where each str is the local path to a directory, these directories contain videos .mp4\n",
    "    \n",
    "    \"\"\"\n",
    "\n",
    "    print(\"Starting renaming process...\\n\")\n",
    "\n",
    "    path_actor_1 = []\n",
    "\n",
    "    for directory in directories:\n",
    "\n",
    "        print(f\"Renaming process for {directory} started.\")\n",
    "        \n",
    "        for filename in os.listdir(directory): # archives inside of the curret directory\n",
    "            if filename.endswith(\".wav\"): # if the file is a video with an _\n",
    "\n",
    "                name = filename # extract just the id\n",
    "                path_actor_1.append(os.path.join(path, f\"{name}\")) # append the id to the array\n",
    "\n",
    "    print(path_actor_1)\n",
    "\n",
    "    output_file = f'./txt/path_actor_1.txt'\n",
    "    with open(output_file, 'w') as f:\n",
    "        for path in path_actor_1:\n",
    "            f.write(f\"{path}\\n\")\n",
    "        "
   ]
  },
  {
   "cell_type": "code",
   "execution_count": 24,
   "metadata": {},
   "outputs": [],
   "source": [
    "def write_video_paths_txt(df:pd.DataFrame, directory_path:str, name:str):\n",
    "\n",
    "    \"\"\"\n",
    "    Description:\n",
    "        This function writes the paths of the videos in a .txt file, this will be used for feature extraction in 'file_with_video_paths'\n",
    "\n",
    "    Args: \n",
    "        df (pd.DataFrame): a DataFrame of Pandas, could be train_df, val_df or test_df\n",
    "        directory_path (str): the path to the directory where the videos are located\n",
    "        name (str): the name of the .txt file\n",
    "\n",
    "    \"\"\"\n",
    "\n",
    "    if not isinstance(df, pd.DataFrame):\n",
    "        raise TypeError(\"df must be a DataFrame of Pandas\")\n",
    "\n",
    "    paths = []\n",
    "\n",
    "    for id in df['youtube_id']:\n",
    "        paths.append(os.path.join(directory_path, f\"{id}.mp4\"))\n",
    "\n",
    "    print(f\"Finished writing video paths of {name} dataset\" )\n",
    "\n",
    "    output_file = f'./txt/path_{name}.txt'\n",
    "    with open(output_file, 'w') as f:\n",
    "        for path in paths:\n",
    "            f.write(f\"{path}\\n\")\n",
    "\n",
    "    print(f\"Finished writing video paths of {name} dataset\")"
   ]
  },
  {
   "cell_type": "markdown",
   "metadata": {},
   "source": [
    "You can change the location according to your paths"
   ]
  },
  {
   "cell_type": "code",
   "execution_count": 26,
   "metadata": {},
   "outputs": [],
   "source": [
    "directories = ['./archive/Actor_01'] # pls download the .zip w the videos and place them in the 'videos' directory\n",
    "\n",
    "actor_01_path = 'C:/Users/nayel/Desktop/utec/2025-0/machine-learning/project-3/archive/Actor_01/'"
   ]
  },
  {
   "cell_type": "code",
   "execution_count": 27,
   "metadata": {},
   "outputs": [
    {
     "name": "stdout",
     "output_type": "stream",
     "text": [
      "Starting renaming process...\n",
      "\n",
      "Renaming process for ./archive/Actor_01 started.\n",
      "['C:/Users/nayel/Desktop/utec/2025-0/machine-learning/project-3/archive/Actor_01/03-01-01-01-01-01-01.wav', 'C:/Users/nayel/Desktop/utec/2025-0/machine-learning/project-3/archive/Actor_01/03-01-01-01-01-02-01.wav', 'C:/Users/nayel/Desktop/utec/2025-0/machine-learning/project-3/archive/Actor_01/03-01-01-01-02-01-01.wav', 'C:/Users/nayel/Desktop/utec/2025-0/machine-learning/project-3/archive/Actor_01/03-01-01-01-02-02-01.wav', 'C:/Users/nayel/Desktop/utec/2025-0/machine-learning/project-3/archive/Actor_01/03-01-02-01-01-01-01.wav', 'C:/Users/nayel/Desktop/utec/2025-0/machine-learning/project-3/archive/Actor_01/03-01-02-01-01-02-01.wav', 'C:/Users/nayel/Desktop/utec/2025-0/machine-learning/project-3/archive/Actor_01/03-01-02-01-02-01-01.wav', 'C:/Users/nayel/Desktop/utec/2025-0/machine-learning/project-3/archive/Actor_01/03-01-02-01-02-02-01.wav', 'C:/Users/nayel/Desktop/utec/2025-0/machine-learning/project-3/archive/Actor_01/03-01-02-02-01-01-01.wav', 'C:/Users/nayel/Desktop/utec/2025-0/machine-learning/project-3/archive/Actor_01/03-01-02-02-01-02-01.wav', 'C:/Users/nayel/Desktop/utec/2025-0/machine-learning/project-3/archive/Actor_01/03-01-02-02-02-01-01.wav', 'C:/Users/nayel/Desktop/utec/2025-0/machine-learning/project-3/archive/Actor_01/03-01-02-02-02-02-01.wav', 'C:/Users/nayel/Desktop/utec/2025-0/machine-learning/project-3/archive/Actor_01/03-01-03-01-01-01-01.wav', 'C:/Users/nayel/Desktop/utec/2025-0/machine-learning/project-3/archive/Actor_01/03-01-03-01-01-02-01.wav', 'C:/Users/nayel/Desktop/utec/2025-0/machine-learning/project-3/archive/Actor_01/03-01-03-01-02-01-01.wav', 'C:/Users/nayel/Desktop/utec/2025-0/machine-learning/project-3/archive/Actor_01/03-01-03-01-02-02-01.wav', 'C:/Users/nayel/Desktop/utec/2025-0/machine-learning/project-3/archive/Actor_01/03-01-03-02-01-01-01.wav', 'C:/Users/nayel/Desktop/utec/2025-0/machine-learning/project-3/archive/Actor_01/03-01-03-02-01-02-01.wav', 'C:/Users/nayel/Desktop/utec/2025-0/machine-learning/project-3/archive/Actor_01/03-01-03-02-02-01-01.wav', 'C:/Users/nayel/Desktop/utec/2025-0/machine-learning/project-3/archive/Actor_01/03-01-03-02-02-02-01.wav', 'C:/Users/nayel/Desktop/utec/2025-0/machine-learning/project-3/archive/Actor_01/03-01-04-01-01-01-01.wav', 'C:/Users/nayel/Desktop/utec/2025-0/machine-learning/project-3/archive/Actor_01/03-01-04-01-01-02-01.wav', 'C:/Users/nayel/Desktop/utec/2025-0/machine-learning/project-3/archive/Actor_01/03-01-04-01-02-01-01.wav', 'C:/Users/nayel/Desktop/utec/2025-0/machine-learning/project-3/archive/Actor_01/03-01-04-01-02-02-01.wav', 'C:/Users/nayel/Desktop/utec/2025-0/machine-learning/project-3/archive/Actor_01/03-01-04-02-01-01-01.wav', 'C:/Users/nayel/Desktop/utec/2025-0/machine-learning/project-3/archive/Actor_01/03-01-04-02-01-02-01.wav', 'C:/Users/nayel/Desktop/utec/2025-0/machine-learning/project-3/archive/Actor_01/03-01-04-02-02-01-01.wav', 'C:/Users/nayel/Desktop/utec/2025-0/machine-learning/project-3/archive/Actor_01/03-01-04-02-02-02-01.wav', 'C:/Users/nayel/Desktop/utec/2025-0/machine-learning/project-3/archive/Actor_01/03-01-05-01-01-01-01.wav', 'C:/Users/nayel/Desktop/utec/2025-0/machine-learning/project-3/archive/Actor_01/03-01-05-01-01-02-01.wav', 'C:/Users/nayel/Desktop/utec/2025-0/machine-learning/project-3/archive/Actor_01/03-01-05-01-02-01-01.wav', 'C:/Users/nayel/Desktop/utec/2025-0/machine-learning/project-3/archive/Actor_01/03-01-05-01-02-02-01.wav', 'C:/Users/nayel/Desktop/utec/2025-0/machine-learning/project-3/archive/Actor_01/03-01-05-02-01-01-01.wav', 'C:/Users/nayel/Desktop/utec/2025-0/machine-learning/project-3/archive/Actor_01/03-01-05-02-01-02-01.wav', 'C:/Users/nayel/Desktop/utec/2025-0/machine-learning/project-3/archive/Actor_01/03-01-05-02-02-01-01.wav', 'C:/Users/nayel/Desktop/utec/2025-0/machine-learning/project-3/archive/Actor_01/03-01-05-02-02-02-01.wav', 'C:/Users/nayel/Desktop/utec/2025-0/machine-learning/project-3/archive/Actor_01/03-01-06-01-01-01-01.wav', 'C:/Users/nayel/Desktop/utec/2025-0/machine-learning/project-3/archive/Actor_01/03-01-06-01-01-02-01.wav', 'C:/Users/nayel/Desktop/utec/2025-0/machine-learning/project-3/archive/Actor_01/03-01-06-01-02-01-01.wav', 'C:/Users/nayel/Desktop/utec/2025-0/machine-learning/project-3/archive/Actor_01/03-01-06-01-02-02-01.wav', 'C:/Users/nayel/Desktop/utec/2025-0/machine-learning/project-3/archive/Actor_01/03-01-06-02-01-01-01.wav', 'C:/Users/nayel/Desktop/utec/2025-0/machine-learning/project-3/archive/Actor_01/03-01-06-02-01-02-01.wav', 'C:/Users/nayel/Desktop/utec/2025-0/machine-learning/project-3/archive/Actor_01/03-01-06-02-02-01-01.wav', 'C:/Users/nayel/Desktop/utec/2025-0/machine-learning/project-3/archive/Actor_01/03-01-06-02-02-02-01.wav', 'C:/Users/nayel/Desktop/utec/2025-0/machine-learning/project-3/archive/Actor_01/03-01-07-01-01-01-01.wav', 'C:/Users/nayel/Desktop/utec/2025-0/machine-learning/project-3/archive/Actor_01/03-01-07-01-01-02-01.wav', 'C:/Users/nayel/Desktop/utec/2025-0/machine-learning/project-3/archive/Actor_01/03-01-07-01-02-01-01.wav', 'C:/Users/nayel/Desktop/utec/2025-0/machine-learning/project-3/archive/Actor_01/03-01-07-01-02-02-01.wav', 'C:/Users/nayel/Desktop/utec/2025-0/machine-learning/project-3/archive/Actor_01/03-01-07-02-01-01-01.wav', 'C:/Users/nayel/Desktop/utec/2025-0/machine-learning/project-3/archive/Actor_01/03-01-07-02-01-02-01.wav', 'C:/Users/nayel/Desktop/utec/2025-0/machine-learning/project-3/archive/Actor_01/03-01-07-02-02-01-01.wav', 'C:/Users/nayel/Desktop/utec/2025-0/machine-learning/project-3/archive/Actor_01/03-01-07-02-02-02-01.wav', 'C:/Users/nayel/Desktop/utec/2025-0/machine-learning/project-3/archive/Actor_01/03-01-08-01-01-01-01.wav', 'C:/Users/nayel/Desktop/utec/2025-0/machine-learning/project-3/archive/Actor_01/03-01-08-01-01-02-01.wav', 'C:/Users/nayel/Desktop/utec/2025-0/machine-learning/project-3/archive/Actor_01/03-01-08-01-02-01-01.wav', 'C:/Users/nayel/Desktop/utec/2025-0/machine-learning/project-3/archive/Actor_01/03-01-08-01-02-02-01.wav', 'C:/Users/nayel/Desktop/utec/2025-0/machine-learning/project-3/archive/Actor_01/03-01-08-02-01-01-01.wav', 'C:/Users/nayel/Desktop/utec/2025-0/machine-learning/project-3/archive/Actor_01/03-01-08-02-01-02-01.wav', 'C:/Users/nayel/Desktop/utec/2025-0/machine-learning/project-3/archive/Actor_01/03-01-08-02-02-01-01.wav', 'C:/Users/nayel/Desktop/utec/2025-0/machine-learning/project-3/archive/Actor_01/03-01-08-02-02-02-01.wav']\n"
     ]
    }
   ],
   "source": [
    "os.makedirs(\"txt\", exist_ok=True)\n",
    "\n",
    "rename_files(directories, actor_01_path)"
   ]
  },
  {
   "cell_type": "code",
   "execution_count": 19,
   "metadata": {},
   "outputs": [
    {
     "name": "stdout",
     "output_type": "stream",
     "text": [
      "Finished writing video paths of val dataset\n",
      "Finished writing video paths of val dataset\n"
     ]
    }
   ],
   "source": [
    "write_video_paths_txt(val_df, val_directory, 'val')\n",
    "write_video_paths_txt(train_df, train_directory, 'train')\n",
    "write_video_paths_txt(test_df, test_directory, 'test')"
   ]
  },
  {
   "cell_type": "markdown",
   "metadata": {},
   "source": [
    "Ahora que tenemos todos los path de los videos almacenados en un `.txt` (separado por train, val y test) podemos usar video_features para realizar la extracción de caracteristicas correspondiente.\n",
    "\n",
    "Para esto primero clonamos el repositorio de video_features e instalamos las dependencias necesarias dentro de este directorio/repositorio:"
   ]
  },
  {
   "cell_type": "markdown",
   "metadata": {},
   "source": [
    "```bash\n",
    "git clone https://github.com/v-iashin/video_features.git\n",
    "cd video_features"
   ]
  },
  {
   "cell_type": "markdown",
   "metadata": {},
   "source": [
    "Para realizar la instalación de dependencias, necesitas tener anaconda/miniconda instalado"
   ]
  },
  {
   "cell_type": "markdown",
   "metadata": {},
   "source": [
    "```bash\n",
    "conda create -n video_features\n",
    "conda install pytorch torchvision torchaudio pytorch-cuda=12.1 -c pytorch -c nvidia\n",
    "conda install -c conda-forge omegaconf scipy tqdm pytest opencv\n",
    "conda install -c conda-forge av"
   ]
  },
  {
   "cell_type": "markdown",
   "metadata": {},
   "source": [
    "Con esto hecho, ya se puede realizar la extracción de caracteristicas en la terminal con el siguiente comando:"
   ]
  },
  {
   "cell_type": "markdown",
   "metadata": {},
   "source": [
    "```bash\n",
    "\n",
    "python main.py \n",
    "        \\ feature_type=r21d \n",
    "        \\ device=\"cuda:0\" \n",
    "        \\ file_with_video_paths=\"../txt/path_${name}.txt\" \n",
    "        \\ on_extraction=save_numpy \n",
    "        \\ output_path=\"../extraction/${name}\"\n",
    "\n",
    "# 'name' could be: [train, test, val]"
   ]
  },
  {
   "cell_type": "markdown",
   "metadata": {},
   "source": [
    "Ejecutando lo anterior, se crean archivos `.npy` dentro del directorio 'videos'. Cada archivo le corresponde a la extracción de características de un video."
   ]
  }
 ],
 "metadata": {
  "kernelspec": {
   "display_name": "Python 3",
   "language": "python",
   "name": "python3"
  },
  "language_info": {
   "codemirror_mode": {
    "name": "ipython",
    "version": 3
   },
   "file_extension": ".py",
   "mimetype": "text/x-python",
   "name": "python",
   "nbconvert_exporter": "python",
   "pygments_lexer": "ipython3",
   "version": "3.12.5"
  }
 },
 "nbformat": 4,
 "nbformat_minor": 2
}
