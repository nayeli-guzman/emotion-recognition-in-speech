{
 "cells": [
  {
   "cell_type": "markdown",
   "metadata": {},
   "source": [
    "# **Clustering applied to audio embeddings without dimensionality reduction**\n",
    "\n",
    "Aplicar métodos de clustering tradicionales a los features extraídos, tanto de VGGish como Librosa (MFCGG, Zero-Crossing Rate, RMSE), sin aplicar reducción de dimensionalidad. Métodos a usar:\n",
    "\n",
    "- KNN\n",
    "- Logistic Regression\n",
    "- SVM\n",
    "- Decision tree, random forest, XGBoost\n",
    "- Naive Bayes (hacer test de independencia?)\n",
    "\n",
    "Métricas de evaluación\n",
    "- Accuracy\n",
    "- Precision\n",
    "- Recall\n",
    "- F1 score\n",
    "\n",
    "**Estructura general del notebook:**\n",
    "\n",
    "    I. VGGish features\n",
    "    II. Librosa features (1)\n",
    "    III. Librosa features (2)\n"
   ]
  },
  {
   "cell_type": "code",
   "execution_count": 1,
   "metadata": {},
   "outputs": [],
   "source": [
    "import numpy as np\n",
    "import pandas as pd\n",
    "import seaborn as sns\n",
    "import matplotlib.pyplot as plt\n",
    "from sklearn.model_selection import train_test_split, ParameterGrid\n",
    "from sklearn.metrics import accuracy_score, precision_score, recall_score, f1_score\n",
    "from sklearn.preprocessing import StandardScaler\n",
    "\n",
    "# models\n",
    "from sklearn.neighbors import KNeighborsClassifier\n",
    "from sklearn.tree import DecisionTreeClassifier\n",
    "from sklearn.ensemble import RandomForestClassifier\n",
    "from sklearn.linear_model import LogisticRegression\n",
    "from sklearn.svm import SVC\n",
    "from sklearn.naive_bayes import GaussianNB\n",
    "\n",
    "from xgboost import XGBClassifier"
   ]
  },
  {
   "cell_type": "code",
   "execution_count": 2,
   "metadata": {},
   "outputs": [],
   "source": [
    "def show_metrics(y_true, y_pred):\n",
    "    f1 = f1_score(y_true, y_pred, average=\"weighted\")\n",
    "    acc = accuracy_score(y_true, y_pred)\n",
    "    prec = precision_score(y_true, y_pred, average=\"weighted\")\n",
    "    rec = recall_score(y_true, y_pred, average=\"weighted\")\n",
    "\n",
    "    print(\"F1 score: \", f1)\n",
    "    print(\"Accuracy: \", acc)\n",
    "    print(\"Precision: \", prec)\n",
    "    print(\"Recall: \", rec)"
   ]
  },
  {
   "cell_type": "markdown",
   "metadata": {},
   "source": [
    "## **I. VGGish features**"
   ]
  },
  {
   "cell_type": "markdown",
   "metadata": {},
   "source": [
    "### Load features"
   ]
  },
  {
   "cell_type": "code",
   "execution_count": 2,
   "metadata": {},
   "outputs": [],
   "source": [
    "def load_features_ids_labels(filename:str, has_labels=True):\n",
    "    \"\"\"\n",
    "    Description:\n",
    "        Cargar los features, ids y labels de un archivo npz.\n",
    "        Si es data de testeo, has_labels=False\n",
    "    \"\"\"\n",
    "\n",
    "    contents = np.load(filename, allow_pickle=True)\n",
    "    features = contents['features']\n",
    "    ids = contents['ids']\n",
    "\n",
    "    if has_labels:\n",
    "        labels = contents['labels']\n",
    "        return features, ids, labels\n",
    "    \n",
    "    return features, ids"
   ]
  },
  {
   "cell_type": "code",
   "execution_count": 3,
   "metadata": {},
   "outputs": [],
   "source": [
    "X, ids, y = load_features_ids_labels(filename='features_npz/features_cremad.npz', has_labels=True)\n",
    "y = y.flatten()\n",
    "\n",
    "X_train, X_test, y_train, y_test = train_test_split(X, y, random_state=42, train_size=0.8)"
   ]
  },
  {
   "cell_type": "code",
   "execution_count": 4,
   "metadata": {},
   "outputs": [
    {
     "data": {
      "image/png": "[encoded data removed]",
      "text/plain": [
       "<Figure size 640x480 with 1 Axes>"
      ]
     },
     "metadata": {},
     "output_type": "display_data"
    }
   ],
   "source": [
    "sns.histplot(X.flatten(), bins=25)\n",
    "plt.title(\"Distribution of VGGish feature values\")\n",
    "plt.show()"
   ]
  },
  {
   "cell_type": "code",
   "execution_count": 7,
   "metadata": {},
   "outputs": [
    {
     "name": "stdout",
     "output_type": "stream",
     "text": [
      "(5953, 128)\n"
     ]
    }
   ],
   "source": [
    "print(X_train.shape)"
   ]
  },
  {
   "cell_type": "code",
   "execution_count": 4,
   "metadata": {},
   "outputs": [],
   "source": [
    "standardScaler = StandardScaler()\n",
    "X_train_std = standardScaler.fit_transform(X_train)\n",
    "X_test_std = standardScaler.transform(X_test)"
   ]
  },
  {
   "cell_type": "markdown",
   "metadata": {},
   "source": [
    "### XGBoost"
   ]
  },
  {
   "cell_type": "code",
   "execution_count": 6,
   "metadata": {},
   "outputs": [],
   "source": [
    "labels_dict = {}\n",
    "unique_labels = np.unique(y)\n",
    "for i, label in enumerate(unique_labels):\n",
    "    labels_dict[label] = i\n",
    "y_train_num = np.array([labels_dict[elem] for elem in y_train])\n",
    "y_test_num = np.array([labels_dict[elem] for elem in y_test])"
   ]
  },
  {
   "cell_type": "code",
   "execution_count": 9,
   "metadata": {},
   "outputs": [
    {
     "name": "stdout",
     "output_type": "stream",
     "text": [
      "F1 score:  0.44024178107222567\n",
      "Accuracy:  0.4445936870382807\n",
      "Precision:  0.4377827270947972\n",
      "Recall:  0.4445936870382807\n"
     ]
    }
   ],
   "source": [
    "bst = XGBClassifier(n_estimators=32, max_depth=8, learning_rate=1)\n",
    "bst.fit(X_train, y_train_num)\n",
    "pred_bst = bst.predict(X_test)\n",
    "\n",
    "pred_bst_ = [unique_labels[i] for i in pred_bst]\n",
    "show_metrics(y_true=y_test, y_pred=pred_bst_)"
   ]
  },
  {
   "cell_type": "markdown",
   "metadata": {},
   "source": [
    "### Logistic Regression"
   ]
  },
  {
   "cell_type": "code",
   "execution_count": 9,
   "metadata": {},
   "outputs": [
    {
     "name": "stdout",
     "output_type": "stream",
     "text": [
      "F1 score:  0.47701952279328347\n",
      "Accuracy:  0.48354600402955006\n",
      "Precision:  0.47436348718784804\n",
      "Recall:  0.48354600402955006\n"
     ]
    },
    {
     "name": "stderr",
     "output_type": "stream",
     "text": [
      "d:\\Documents-D\\Projects\\emotion-recognition-in-speech\\.venv\\Lib\\site-packages\\sklearn\\linear_model\\_logistic.py:465: ConvergenceWarning: lbfgs failed to converge (status=1):\n",
      "STOP: TOTAL NO. OF ITERATIONS REACHED LIMIT.\n",
      "\n",
      "Increase the number of iterations (max_iter) or scale the data as shown in:\n",
      "    https://scikit-learn.org/stable/modules/preprocessing.html\n",
      "Please also refer to the documentation for alternative solver options:\n",
      "    https://scikit-learn.org/stable/modules/linear_model.html#logistic-regression\n",
      "  n_iter_i = _check_optimize_result(\n"
     ]
    }
   ],
   "source": [
    "lr = LogisticRegression(random_state=0)\n",
    "lr.fit(X=X_train, y=y_train)\n",
    "lr_pred = lr.predict(X_test)\n",
    "\n",
    "show_metrics(y_true=y_test, y_pred=lr_pred)"
   ]
  },
  {
   "cell_type": "markdown",
   "metadata": {},
   "source": [
    "### Naive Bayes"
   ]
  },
  {
   "cell_type": "code",
   "execution_count": 19,
   "metadata": {},
   "outputs": [
    {
     "name": "stdout",
     "output_type": "stream",
     "text": [
      "F1 score:  0.25884613065768763\n",
      "Accuracy:  0.30624580255204836\n",
      "Precision:  0.3638678202852358\n",
      "Recall:  0.30624580255204836\n"
     ]
    }
   ],
   "source": [
    "gnb = GaussianNB()\n",
    "gnb.fit(X=X_train, y=y_train)\n",
    "gnb_pred = gnb.predict(X_test)\n",
    "\n",
    "show_metrics(y_true=y_test, y_pred=gnb_pred)"
   ]
  },
  {
   "cell_type": "markdown",
   "metadata": {},
   "source": [
    "### SVM\n",
    "RBF y polinomial de otros grados tienen peores resultados"
   ]
  },
  {
   "cell_type": "code",
   "execution_count": 17,
   "metadata": {},
   "outputs": [
    {
     "name": "stdout",
     "output_type": "stream",
     "text": [
      "F1 score:  0.504275237447437\n",
      "Accuracy:  0.5124244459368704\n",
      "Precision:  0.5046910909103162\n",
      "Recall:  0.5124244459368704\n"
     ]
    }
   ],
   "source": [
    "svm = SVC(random_state=0, kernel='poly', degree=3)\n",
    "svm.fit(X=X_train, y=y_train)\n",
    "svm_pred = svm.predict(X_test)\n",
    "\n",
    "show_metrics(y_true=y_test, y_pred=svm_pred)"
   ]
  },
  {
   "cell_type": "markdown",
   "metadata": {},
   "source": [
    "### KNN"
   ]
  },
  {
   "cell_type": "code",
   "execution_count": 31,
   "metadata": {},
   "outputs": [
    {
     "name": "stdout",
     "output_type": "stream",
     "text": [
      "F1 score:  0.4345002503671903\n",
      "Accuracy:  0.45601074546675624\n",
      "Precision:  0.43824110864821403\n",
      "Recall:  0.45601074546675624\n"
     ]
    }
   ],
   "source": [
    "knn = KNeighborsClassifier(n_neighbors=25)\n",
    "knn.fit(X_train, y_train)\n",
    "knn_pred = knn.predict(X_test)\n",
    "\n",
    "show_metrics(y_test, knn_pred)"
   ]
  },
  {
   "cell_type": "markdown",
   "metadata": {},
   "source": [
    "### Decision Tree"
   ]
  },
  {
   "cell_type": "code",
   "execution_count": 35,
   "metadata": {},
   "outputs": [
    {
     "name": "stdout",
     "output_type": "stream",
     "text": [
      "F1 score:  0.32251627382349335\n",
      "Accuracy:  0.3237071860308932\n",
      "Precision:  0.3221188125679233\n",
      "Recall:  0.3237071860308932\n"
     ]
    }
   ],
   "source": [
    "dt = DecisionTreeClassifier()\n",
    "dt = dt.fit(X_train, y_train)\n",
    "dt_pred = dt.predict(X_test)\n",
    "\n",
    "show_metrics(y_test, dt_pred)"
   ]
  },
  {
   "cell_type": "markdown",
   "metadata": {},
   "source": [
    "### Random Forest"
   ]
  },
  {
   "cell_type": "code",
   "execution_count": 12,
   "metadata": {},
   "outputs": [
    {
     "name": "stdout",
     "output_type": "stream",
     "text": [
      "F1 score:  0.4487514356621093\n",
      "Accuracy:  0.4630010277492292\n",
      "Precision:  0.5017715103873288\n",
      "Recall:  0.4630010277492292\n"
     ]
    }
   ],
   "source": [
    "rf = RandomForestClassifier(n_estimators=128, criterion=\"gini\", max_depth=8, random_state=0)\n",
    "rf.fit(X_train, y_train)\n",
    "rf_pred = rf.predict(X_test)\n",
    "\n",
    "show_metrics(y_test, rf_pred)"
   ]
  },
  {
   "cell_type": "markdown",
   "metadata": {},
   "source": [
    "## **II. Librosa features (1)**\n",
    "Los features extraídos con librosa tienen varios nulos. En esta experimentación (1), todos los nulos fueron reemplazados por el valor 0. En la experimentación (2) se aplicaron otros métodos de data cleaning."
   ]
  },
  {
   "cell_type": "markdown",
   "metadata": {},
   "source": [
    "### Load features"
   ]
  },
  {
   "cell_type": "code",
   "execution_count": 4,
   "metadata": {},
   "outputs": [],
   "source": [
    "df_raw = pd.read_csv(\"D:/Documents-D/Downloads/emotion.csv\")\n",
    "df = df_raw.fillna(0)"
   ]
  },
  {
   "cell_type": "code",
   "execution_count": 5,
   "metadata": {},
   "outputs": [],
   "source": [
    "X = df.iloc[: ,:-1].values\n",
    "y = df['Emotions'].values\n",
    "X_train, X_test, y_train, y_test = train_test_split(X, y, random_state=42, train_size=0.8)"
   ]
  },
  {
   "cell_type": "code",
   "execution_count": 6,
   "metadata": {},
   "outputs": [
    {
     "data": {
      "text/plain": [
       "((38918, 2376), (38918,), (9730, 2376), (9730,))"
      ]
     },
     "execution_count": 6,
     "metadata": {},
     "output_type": "execute_result"
    }
   ],
   "source": [
    "scaler = StandardScaler()\n",
    "X_train = scaler.fit_transform(X_train)\n",
    "X_test = scaler.transform(X_test)\n",
    "X_train.shape, y_train.shape, X_test.shape, y_test.shape"
   ]
  },
  {
   "cell_type": "markdown",
   "metadata": {},
   "source": [
    "### Logistic Regression"
   ]
  },
  {
   "cell_type": "code",
   "execution_count": 13,
   "metadata": {},
   "outputs": [
    {
     "name": "stderr",
     "output_type": "stream",
     "text": [
      "d:\\Documents-D\\Projects\\emotion-recognition-in-speech\\.venv\\Lib\\site-packages\\sklearn\\linear_model\\_logistic.py:465: ConvergenceWarning: lbfgs failed to converge (status=1):\n",
      "STOP: TOTAL NO. OF ITERATIONS REACHED LIMIT.\n",
      "\n",
      "Increase the number of iterations (max_iter) or scale the data as shown in:\n",
      "    https://scikit-learn.org/stable/modules/preprocessing.html\n",
      "Please also refer to the documentation for alternative solver options:\n",
      "    https://scikit-learn.org/stable/modules/linear_model.html#logistic-regression\n",
      "  n_iter_i = _check_optimize_result(\n"
     ]
    },
    {
     "name": "stdout",
     "output_type": "stream",
     "text": [
      "F1 score:  0.44062535831062755\n",
      "Accuracy:  0.4411099691675231\n",
      "Precision:  0.44088416096125516\n",
      "Recall:  0.4411099691675231\n"
     ]
    }
   ],
   "source": [
    "lr = LogisticRegression(random_state=0)\n",
    "lr.fit(X=X_train, y=y_train)\n",
    "lr_pred = lr.predict(X_test)\n",
    "\n",
    "show_metrics(y_true=y_test, y_pred=lr_pred)"
   ]
  },
  {
   "cell_type": "markdown",
   "metadata": {},
   "source": [
    "### SVM"
   ]
  },
  {
   "cell_type": "code",
   "execution_count": 14,
   "metadata": {},
   "outputs": [
    {
     "name": "stdout",
     "output_type": "stream",
     "text": [
      "F1 score:  0.5869512160773809\n",
      "Accuracy:  0.587667009249743\n",
      "Precision:  0.6260423869561978\n",
      "Recall:  0.587667009249743\n"
     ]
    }
   ],
   "source": [
    "svm = SVC(random_state=0, kernel='poly', degree=3)\n",
    "svm.fit(X=X_train, y=y_train)\n",
    "svm_pred = svm.predict(X_test)\n",
    "\n",
    "show_metrics(y_true=y_test, y_pred=svm_pred)"
   ]
  },
  {
   "cell_type": "markdown",
   "metadata": {},
   "source": [
    "### Decision Tree"
   ]
  },
  {
   "cell_type": "code",
   "execution_count": 15,
   "metadata": {},
   "outputs": [
    {
     "name": "stdout",
     "output_type": "stream",
     "text": [
      "F1 score:  0.4897263371892782\n",
      "Accuracy:  0.4894141829393628\n",
      "Precision:  0.49017442484418083\n",
      "Recall:  0.4894141829393628\n"
     ]
    }
   ],
   "source": [
    "dt = DecisionTreeClassifier()\n",
    "dt = dt.fit(X_train, y_train)\n",
    "dt_pred = dt.predict(X_test)\n",
    "\n",
    "show_metrics(y_test, dt_pred)"
   ]
  },
  {
   "cell_type": "markdown",
   "metadata": {},
   "source": [
    "### XGBoost"
   ]
  },
  {
   "cell_type": "code",
   "execution_count": 7,
   "metadata": {},
   "outputs": [],
   "source": [
    "labels_dict = {}\n",
    "unique_labels = np.unique(y)\n",
    "for i, label in enumerate(unique_labels):\n",
    "    labels_dict[label] = i\n",
    "y_train_num = np.array([labels_dict[elem] for elem in y_train])\n",
    "y_test_num = np.array([labels_dict[elem] for elem in y_test])"
   ]
  },
  {
   "cell_type": "code",
   "execution_count": 12,
   "metadata": {},
   "outputs": [
    {
     "name": "stdout",
     "output_type": "stream",
     "text": [
      "F1 score:  0.7060374309591502\n",
      "Accuracy:  0.7061664953751284\n",
      "Precision:  0.7073265402399541\n",
      "Recall:  0.7061664953751284\n"
     ]
    }
   ],
   "source": [
    "bst = XGBClassifier(n_estimators=32, max_depth=10, learning_rate=1) \n",
    "bst.fit(X_train, y_train_num)\n",
    "pred_bst = bst.predict(X_test)\n",
    "\n",
    "pred_bst_ = [unique_labels[i] for i in pred_bst]\n",
    "show_metrics(y_true=y_test, y_pred=pred_bst_)"
   ]
  },
  {
   "cell_type": "markdown",
   "metadata": {},
   "source": [
    "## **III. Librosa features (2)**\n",
    "En esta experimentación (2) se aplicaron más métodos de data cleaning. \n",
    "\n",
    "1. Se eliminaron las columnas con más de 20% de valores faltantes. \n",
    "2. Los valores faltantes que quedaron fueron imputados con medianas"
   ]
  },
  {
   "cell_type": "code",
   "execution_count": 3,
   "metadata": {},
   "outputs": [
    {
     "name": "stdout",
     "output_type": "stream",
     "text": [
      "28245624\n"
     ]
    }
   ],
   "source": [
    "df_raw = pd.read_csv(\"D:/Documents-D/Downloads/emotion.csv\")\n",
    "print(df_raw.isna().sum().sum()) # cantidad de nulos original"
   ]
  },
  {
   "cell_type": "code",
   "execution_count": 42,
   "metadata": {},
   "outputs": [
    {
     "name": "stdout",
     "output_type": "stream",
     "text": [
      "639\n"
     ]
    }
   ],
   "source": [
    "columns_without_nans = df_raw.columns[df_raw.isna().sum() == 0]\n",
    "print( len(columns_without_nans)) # cantidad de COLUMNAS sin nulos"
   ]
  },
  {
   "cell_type": "code",
   "execution_count": 53,
   "metadata": {},
   "outputs": [
    {
     "data": {
      "text/plain": [
       "11024"
      ]
     },
     "execution_count": 53,
     "metadata": {},
     "output_type": "execute_result"
    }
   ],
   "source": [
    "# cantidad de FILAS sin nulos\n",
    "df_raw.dropna().shape[0]"
   ]
  },
  {
   "cell_type": "code",
   "execution_count": 4,
   "metadata": {},
   "outputs": [
    {
     "name": "stdout",
     "output_type": "stream",
     "text": [
      "old shape:  (48648, 2377) . New shape:  (48648, 1365)\n"
     ]
    }
   ],
   "source": [
    "# drop columnas con más de 20% de nulos\n",
    "columns_to_drop = []\n",
    "for col in df_raw.columns:\n",
    "    nans = df_raw[col].isna().sum()\n",
    "    if nans / df_raw.shape[0] >= 0.2:\n",
    "        columns_to_drop.append(col)\n",
    "dfc = df_raw.drop(columns=columns_to_drop)\n",
    "print(\"old shape: \", df_raw.shape, \". New shape: \", dfc.shape)"
   ]
  },
  {
   "cell_type": "code",
   "execution_count": 5,
   "metadata": {},
   "outputs": [],
   "source": [
    "X = dfc.iloc[: ,:-1]\n",
    "y = dfc['Emotions']\n",
    "X_train, X_test, y_train, y_test = train_test_split(X, y, random_state=42, train_size=0.8)"
   ]
  },
  {
   "cell_type": "code",
   "execution_count": 6,
   "metadata": {},
   "outputs": [
    {
     "data": {
      "text/plain": [
       "np.int64(0)"
      ]
     },
     "execution_count": 6,
     "metadata": {},
     "output_type": "execute_result"
    }
   ],
   "source": [
    "emotions = np.unique(y)\n",
    "for emotion in emotions:\n",
    "    bm_train = y_train == emotion\n",
    "    medians = X_train[bm_train].median(skipna=True)\n",
    "    medians_general = X_train.median(skipna=True)\n",
    "\n",
    "    # Llenar con las medianas de cada emoción específica de training\n",
    "    for col in X_train.columns:\n",
    "        X_train.loc[bm_train, col] = X_train.loc[bm_train, col].fillna(value=medians[col])\n",
    "\n",
    "    # se supone que en testing no sabemos los labels de antemano, entonces llenamos con las medianas de todas las emociones\n",
    "    for col in X_test.columns:\n",
    "        X_test[col] = X_test[col].fillna(value=medians_general[col])\n",
    "X_train.isna().sum().sum()"
   ]
  },
  {
   "cell_type": "code",
   "execution_count": 7,
   "metadata": {},
   "outputs": [],
   "source": [
    "X_train = X_train.to_numpy()\n",
    "X_test = X_test.to_numpy()\n",
    "y_train = y_train.to_numpy()\n",
    "y_test = y_test.to_numpy()"
   ]
  },
  {
   "cell_type": "markdown",
   "metadata": {},
   "source": [
    "### KNN"
   ]
  },
  {
   "cell_type": "code",
   "execution_count": 11,
   "metadata": {},
   "outputs": [
    {
     "name": "stdout",
     "output_type": "stream",
     "text": [
      "n neighbors:  5\n",
      "F1 score:  0.6115954323378916\n",
      "Accuracy:  0.6113052415210689\n",
      "Precision:  0.61794806059474\n",
      "Recall:  0.6113052415210689\n",
      "\n",
      "n neighbors:  10\n",
      "F1 score:  0.5535662823149118\n",
      "Accuracy:  0.5543679342240493\n",
      "Precision:  0.563344860361172\n",
      "Recall:  0.5543679342240493\n",
      "\n",
      "n neighbors:  15\n",
      "F1 score:  0.5285222705387306\n",
      "Accuracy:  0.5304213771839671\n",
      "Precision:  0.5409473702620802\n",
      "Recall:  0.5304213771839671\n",
      "\n",
      "n neighbors:  20\n",
      "F1 score:  0.509628239622197\n",
      "Accuracy:  0.5118191161356629\n",
      "Precision:  0.525950828667017\n",
      "Recall:  0.5118191161356629\n",
      "\n",
      "n neighbors:  25\n",
      "F1 score:  0.5001396613583382\n",
      "Accuracy:  0.5027749229188078\n",
      "Precision:  0.5179343558509377\n",
      "Recall:  0.5027749229188078\n",
      "\n",
      "n neighbors:  30\n",
      "F1 score:  0.48782671726149945\n",
      "Accuracy:  0.4916752312435766\n",
      "Precision:  0.5080715108022507\n",
      "Recall:  0.4916752312435766\n",
      "\n",
      "n neighbors:  40\n",
      "F1 score:  0.4701600315070816\n",
      "Accuracy:  0.47533401849948614\n",
      "Precision:  0.4935042029732374\n",
      "Recall:  0.47533401849948614\n",
      "\n",
      "n neighbors:  50\n",
      "F1 score:  0.45336109199263813\n",
      "Accuracy:  0.45971223021582736\n",
      "Precision:  0.4785792606849935\n",
      "Recall:  0.45971223021582736\n",
      "\n",
      "n neighbors:  100\n",
      "F1 score:  0.41134978276279455\n",
      "Accuracy:  0.42189105858170606\n",
      "Precision:  0.4412296017346791\n",
      "Recall:  0.42189105858170606\n",
      "\n"
     ]
    }
   ],
   "source": [
    "ks = [5, 10, 15, 20, 25, 30, 40, 50, 100]\n",
    "for k in ks:\n",
    "    knn = KNeighborsClassifier(n_neighbors=k)\n",
    "    knn.fit(X_train, y_train)\n",
    "    knn_pred = knn.predict(X_test)\n",
    "\n",
    "    print(\"n neighbors: \", k)\n",
    "    show_metrics(y_test, knn_pred)\n",
    "    print()"
   ]
  },
  {
   "cell_type": "markdown",
   "metadata": {},
   "source": [
    "### Decision Tree"
   ]
  },
  {
   "cell_type": "code",
   "execution_count": 12,
   "metadata": {},
   "outputs": [
    {
     "name": "stdout",
     "output_type": "stream",
     "text": [
      "F1 score:  0.4197422650856108\n",
      "Accuracy:  0.41788283658787256\n",
      "Precision:  0.42944674935365934\n",
      "Recall:  0.41788283658787256\n"
     ]
    }
   ],
   "source": [
    "dt = DecisionTreeClassifier()\n",
    "dt = dt.fit(X_train, y_train)\n",
    "dt_pred = dt.predict(X_test)\n",
    "\n",
    "show_metrics(y_test, dt_pred)"
   ]
  },
  {
   "cell_type": "markdown",
   "metadata": {},
   "source": [
    "### Random Forest"
   ]
  },
  {
   "cell_type": "code",
   "execution_count": 13,
   "metadata": {},
   "outputs": [
    {
     "name": "stdout",
     "output_type": "stream",
     "text": [
      "F1 score:  0.3924927339350771\n",
      "Accuracy:  0.42559095580678313\n",
      "Precision:  0.4344098162123649\n",
      "Recall:  0.42559095580678313\n"
     ]
    }
   ],
   "source": [
    "rf = RandomForestClassifier(n_estimators=64, criterion=\"gini\", max_depth=10, random_state=0)\n",
    "rf.fit(X_train, y_train)\n",
    "rf_pred = rf.predict(X_test)\n",
    "\n",
    "show_metrics(y_test, rf_pred)"
   ]
  },
  {
   "cell_type": "markdown",
   "metadata": {},
   "source": [
    "### SVM polinomial de grado 3"
   ]
  },
  {
   "cell_type": "code",
   "execution_count": 15,
   "metadata": {},
   "outputs": [
    {
     "name": "stdout",
     "output_type": "stream",
     "text": [
      "F1 score:  0.49154275022128974\n",
      "Accuracy:  0.5006166495375128\n",
      "Precision:  0.5226643586746433\n",
      "Recall:  0.5006166495375128\n"
     ]
    }
   ],
   "source": [
    "svm = SVC(random_state=0, kernel='poly', degree=3)\n",
    "svm.fit(X=X_train, y=y_train)\n",
    "svm_pred = svm.predict(X_test)\n",
    "\n",
    "show_metrics(y_true=y_test, y_pred=svm_pred)"
   ]
  },
  {
   "cell_type": "markdown",
   "metadata": {},
   "source": [
    "### SVM polinomial de grado 4"
   ]
  },
  {
   "cell_type": "code",
   "execution_count": 16,
   "metadata": {},
   "outputs": [
    {
     "name": "stdout",
     "output_type": "stream",
     "text": [
      "F1 score:  0.49959975568833065\n",
      "Accuracy:  0.5050359712230216\n",
      "Precision:  0.5472682236986379\n",
      "Recall:  0.5050359712230216\n"
     ]
    }
   ],
   "source": [
    "svm = SVC(random_state=0, kernel='poly', degree=4)\n",
    "svm.fit(X=X_train, y=y_train)\n",
    "svm_pred = svm.predict(X_test)\n",
    "\n",
    "show_metrics(y_true=y_test, y_pred=svm_pred)"
   ]
  },
  {
   "cell_type": "markdown",
   "metadata": {},
   "source": [
    "### SVM función de base radial"
   ]
  },
  {
   "cell_type": "code",
   "execution_count": 17,
   "metadata": {},
   "outputs": [
    {
     "name": "stdout",
     "output_type": "stream",
     "text": [
      "F1 score:  0.49989196217190424\n",
      "Accuracy:  0.5083247687564234\n",
      "Precision:  0.5146758442394511\n",
      "Recall:  0.5083247687564234\n"
     ]
    }
   ],
   "source": [
    "svm = SVC(random_state=0, kernel='rbf')\n",
    "svm.fit(X=X_train, y=y_train)\n",
    "svm_pred = svm.predict(X_test)\n",
    "\n",
    "show_metrics(y_true=y_test, y_pred=svm_pred)"
   ]
  },
  {
   "cell_type": "markdown",
   "metadata": {},
   "source": [
    "### XGBoost"
   ]
  },
  {
   "cell_type": "code",
   "execution_count": 45,
   "metadata": {},
   "outputs": [],
   "source": [
    "labels_dict = {}\n",
    "unique_labels = np.unique(y)\n",
    "for i, label in enumerate(unique_labels):\n",
    "    labels_dict[label] = i\n",
    "y_train_num = np.array([labels_dict[elem] for elem in y_train])\n",
    "y_test_num = np.array([labels_dict[elem] for elem in y_test])"
   ]
  },
  {
   "cell_type": "code",
   "execution_count": 101,
   "metadata": {},
   "outputs": [
    {
     "name": "stdout",
     "output_type": "stream",
     "text": [
      "F1 score:  0.7476865457120212\n",
      "Accuracy:  0.7478931140801645\n",
      "Precision:  0.7493381612811466\n",
      "Recall:  0.7478931140801645\n"
     ]
    }
   ],
   "source": [
    "# Habiendo imputado valores en base a la clase (como hacer trampa)\n",
    "\"\"\"\n",
    "Ejemplo: Sea la fila n una observación de \"happy\". \n",
    "Si a esta fila le falta un valor en la columna c, \n",
    "este se llena con la mediana del valor de c de \n",
    "aquellas observaciones de \"happy\" que no son nulas.\n",
    "\"\"\"\n",
    "bst = XGBClassifier(n_estimators=32, max_depth=10, learning_rate=1) \n",
    "bst.fit(X_train, y_train_num)\n",
    "pred_bst = bst.predict(X_test)\n",
    "\n",
    "pred_bst_ = [unique_labels[i] for i in pred_bst]\n",
    "show_metrics(y_true=y_test, y_pred=pred_bst_)"
   ]
  },
  {
   "cell_type": "code",
   "execution_count": 59,
   "metadata": {},
   "outputs": [
    {
     "name": "stdout",
     "output_type": "stream",
     "text": [
      "F1 score:  0.606634207421125\n",
      "Accuracy:  0.6118191161356629\n",
      "Precision:  0.6264285176598383\n",
      "Recall:  0.6118191161356629\n"
     ]
    }
   ],
   "source": [
    "\"\"\"\n",
    "Habiendo imputado con medianas idependientemente de la clase\n",
    "\"\"\"\n",
    "bst = XGBClassifier(n_estimators=32, max_depth=10, learning_rate=1) \n",
    "bst.fit(X_train, y_train_num)\n",
    "pred_bst = bst.predict(X_test)\n",
    "\n",
    "pred_bst_ = [unique_labels[i] for i in pred_bst]\n",
    "show_metrics(y_true=y_test, y_pred=pred_bst_)"
   ]
  },
  {
   "cell_type": "code",
   "execution_count": 52,
   "metadata": {},
   "outputs": [
    {
     "name": "stdout",
     "output_type": "stream",
     "text": [
      "F1 score:  0.6943120335051848\n",
      "Accuracy:  0.6943473792394655\n",
      "Precision:  0.6955719687471097\n",
      "Recall:  0.6943473792394655\n"
     ]
    }
   ],
   "source": [
    "# drop columnas con algún nulo\n",
    "# columns_to_drop = []\n",
    "# for col in df_raw.columns:\n",
    "#     nans = df_raw[col].isna().sum()\n",
    "#     if nans > 0:\n",
    "#         columns_to_drop.append(col)\n",
    "# dfc = df_raw.drop(columns=columns_to_drop)\n",
    "# print(\"old shape: \", df_raw.shape, \". New shape: \", dfc.shape)\n",
    "\n",
    "\"\"\"\n",
    "Habiendo droppeado TODAS las columnas con al menos 1 nulo (quedan aprox 639 columnas)\n",
    "\"\"\"\n",
    "\n",
    "bst = XGBClassifier(n_estimators=32, max_depth=10, learning_rate=1) \n",
    "bst.fit(X_train, y_train_num)\n",
    "pred_bst = bst.predict(X_test)\n",
    "\n",
    "pred_bst_ = [unique_labels[i] for i in pred_bst]\n",
    "show_metrics(y_true=y_test, y_pred=pred_bst_)\n",
    "show_metrics(y_true=y_test, y_pred=pred_bst_)"
   ]
  }
 ],
 "metadata": {
  "kernelspec": {
   "display_name": ".venv",
   "language": "python",
   "name": "python3"
  },
  "language_info": {
   "codemirror_mode": {
    "name": "ipython",
    "version": 3
   },
   "file_extension": ".py",
   "mimetype": "text/x-python",
   "name": "python",
   "nbconvert_exporter": "python",
   "pygments_lexer": "ipython3",
   "version": "3.12.4"
  }
 },
 "nbformat": 4,
 "nbformat_minor": 2
}
