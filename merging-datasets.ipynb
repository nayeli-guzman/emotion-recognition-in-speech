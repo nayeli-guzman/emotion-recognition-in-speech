{
 "cells": [
  {
   "cell_type": "markdown",
   "metadata": {},
   "source": [
    "# **Merging Datasets**\n",
    "\n",
    "This notebook presents how we can combine the following four audio datasets, which are classified by emotions:\n",
    "\n",
    "- **[RAVDESS](https://www.kaggle.com/datasets/uwrfkaggler/ravdess-emotional-speech-audio)**: Contains 1440 `.wav` files of emotional speech and song, classified into **8 emotions** (neutral, calm, happy, sad, angry, fearful, disgust, and surprised).\n",
    "- **[CREMA-D](https://www.kaggle.com/datasets/ejlok1/cremad)**: Contains 7442 `.wav` files classified into **6 emotions** (anger, disgust, fear, happiness, neutral, and sadness).\n",
    "- **[TESS](https://www.kaggle.com/datasets/ejlok1/toronto-emotional-speech-set-tess)**: Contains 2800 `.wav` files classified into **7 emotions** (anger, disgust, fear, happiness, pleasant surprise, sadness, and neutral).\n",
    "- **[SAVEE](https://www.kaggle.com/datasets/ejlok1/surrey-audiovisual-expressed-emotion-savee)**: Contains 480 `.wav` files spoken by four actors, classified into **7 emotions** (neutral, anger, disgust, fear, happiness, sadness, and surprise).\n"
   ]
  },
  {
   "cell_type": "markdown",
   "metadata": {},
   "source": [
    "\n",
    "In this section, we will merge the four datasets into one\n",
    "\n",
    "### **Load packages**"
   ]
  },
  {
   "cell_type": "code",
   "execution_count": 1,
   "metadata": {},
   "outputs": [],
   "source": [
    "import pandas as pd\n",
    "import numpy as np\n",
    "import os"
   ]
  },
  {
   "cell_type": "markdown",
   "metadata": {},
   "source": [
    "### **Useful functions**"
   ]
  },
  {
   "cell_type": "code",
   "execution_count": 2,
   "metadata": {},
   "outputs": [],
   "source": [
    "def generate_paths_csv(directories:list[str]=[], type='ravdess', directory_path=''):\n",
    "\n",
    "    emotion_id = []\n",
    "    file_path = []\n",
    "\n",
    "    if (type == 'ravdess'):\n",
    "        \n",
    "        for directory in directories:\n",
    "            actor = os.listdir(directory)\n",
    "            for audio in actor:\n",
    "                part = audio.split('.')[0].split('-')\n",
    "                emotion_id.append(int(part[2]))\n",
    "                file_path.append(directory + '/' + audio)\n",
    "\n",
    "    elif (type == 'cremad'):\n",
    "\n",
    "        files =  os.listdir(directory_path)\n",
    "        \n",
    "        for file in files:\n",
    "\n",
    "            file_path.append(directory_path + file)\n",
    "            emotion = file.split('_')[2]\n",
    "\n",
    "            if emotion == 'SAD':\n",
    "                emotion_id.append('sad')\n",
    "            elif emotion== 'ANG':\n",
    "                emotion_id.append('angry')\n",
    "            elif emotion== 'DIS':\n",
    "                emotion_id.append('disgust')\n",
    "            elif emotion== 'FEA':\n",
    "                emotion_id.append('fear')\n",
    "            elif emotion== 'HAP':\n",
    "                emotion_id.append('happy')\n",
    "            elif emotion== 'NEU':\n",
    "                emotion_id.append('neutral')\n",
    "            else:\n",
    "                emotion_id.append('unknown')\n",
    "            \n",
    "    elif (type == 'tess'):\n",
    "\n",
    "        directories = os.listdir(directory_path)\n",
    "\n",
    "        for directory in directories:\n",
    "\n",
    "            files = os.listdir(directory_path + directory)\n",
    "\n",
    "            for file in files:\n",
    "                emotion = file.split('.')[0].split('_')[2]\n",
    "                if emotion == 'ps':\n",
    "                    emotion_id.append('surprise')\n",
    "                else:\n",
    "                    emotion_id.append(emotion)\n",
    "\n",
    "                file_path.append(directory_path + directory + '/' + file)\n",
    "\n",
    "    elif (type == 'savee'):\n",
    "\n",
    "        files = os.listdir(directory_path)\n",
    "\n",
    "        for file in files:\n",
    "\n",
    "            file_path.append(directory_path+ file)\n",
    "            id = file.split('_')[1][:-6] # ignore ##.wav\n",
    "            if id == 'a':\n",
    "                emotion_id.append('angry')\n",
    "            elif id == 'd':\n",
    "                emotion_id.append('disgust')\n",
    "            elif id == 'f':\n",
    "                emotion_id.append('fear')\n",
    "            elif id == 'h':\n",
    "                emotion_id.append('happy')\n",
    "            elif id == 'n':\n",
    "                emotion_id.append('neutral')\n",
    "            elif id == 'sa':\n",
    "                emotion_id.append('sad')\n",
    "            else:\n",
    "                emotion_id.append('surprise')\n",
    "\n",
    "    return emotion_id, file_path\n",
    "    "
   ]
  },
  {
   "cell_type": "markdown",
   "metadata": {},
   "source": [
    "### **RAVDESS**"
   ]
  },
  {
   "cell_type": "code",
   "execution_count": 3,
   "metadata": {},
   "outputs": [
    {
     "name": "stdout",
     "output_type": "stream",
     "text": [
      "['./archive/Actor_01', './archive/Actor_02', './archive/Actor_03', './archive/Actor_04', './archive/Actor_05', './archive/Actor_06', './archive/Actor_07', './archive/Actor_08', './archive/Actor_09', './archive/Actor_10', './archive/Actor_11', './archive/Actor_12', './archive/Actor_13', './archive/Actor_14', './archive/Actor_15', './archive/Actor_16', './archive/Actor_17', './archive/Actor_18', './archive/Actor_19', './archive/Actor_20', './archive/Actor_21', './archive/Actor_22', './archive/Actor_23', './archive/Actor_24']\n"
     ]
    }
   ],
   "source": [
    "ravdess = [f'./archive/Actor_{i:02d}' for i in range(1, 25)]\n",
    "\n",
    "print(ravdess)"
   ]
  },
  {
   "cell_type": "code",
   "execution_count": 4,
   "metadata": {},
   "outputs": [],
   "source": [
    "emotion_id_ravdess, file_path_ravdess = generate_paths_csv(directories=ravdess, type='ravdess')"
   ]
  },
  {
   "cell_type": "code",
   "execution_count": 5,
   "metadata": {},
   "outputs": [],
   "source": [
    "emotion_df = pd.DataFrame(emotion_id_ravdess, columns=['emotion_id'])\n",
    "path_df = pd.DataFrame(file_path_ravdess, columns=['file_path'])\n",
    "ravdess_df = pd.concat([emotion_df, path_df], axis=1)\n",
    "\n",
    "ravdess_df.replace({\"emotion_id\": {\n",
    "                               1:'neutral', \n",
    "                               2:'neutral', \n",
    "                               3:'happy', \n",
    "                               4:'sad', \n",
    "                               5:'angry', \n",
    "                               6:'fear', \n",
    "                               7:'disgust',\n",
    "                               8:'surprise'}},\n",
    "                            inplace=True)\n"
   ]
  },
  {
   "cell_type": "code",
   "execution_count": 6,
   "metadata": {},
   "outputs": [
    {
     "data": {
      "text/html": [
       "<div>\n",
       "<style scoped>\n",
       "    .dataframe tbody tr th:only-of-type {\n",
       "        vertical-align: middle;\n",
       "    }\n",
       "\n",
       "    .dataframe tbody tr th {\n",
       "        vertical-align: top;\n",
       "    }\n",
       "\n",
       "    .dataframe thead th {\n",
       "        text-align: right;\n",
       "    }\n",
       "</style>\n",
       "<table border=\"1\" class=\"dataframe\">\n",
       "  <thead>\n",
       "    <tr style=\"text-align: right;\">\n",
       "      <th></th>\n",
       "      <th>emotion_id</th>\n",
       "      <th>file_path</th>\n",
       "    </tr>\n",
       "  </thead>\n",
       "  <tbody>\n",
       "    <tr>\n",
       "      <th>0</th>\n",
       "      <td>neutral</td>\n",
       "      <td>./archive/Actor_01/03-01-01-01-01-01-01.wav</td>\n",
       "    </tr>\n",
       "    <tr>\n",
       "      <th>1</th>\n",
       "      <td>neutral</td>\n",
       "      <td>./archive/Actor_01/03-01-01-01-01-02-01.wav</td>\n",
       "    </tr>\n",
       "    <tr>\n",
       "      <th>2</th>\n",
       "      <td>neutral</td>\n",
       "      <td>./archive/Actor_01/03-01-01-01-02-01-01.wav</td>\n",
       "    </tr>\n",
       "    <tr>\n",
       "      <th>3</th>\n",
       "      <td>neutral</td>\n",
       "      <td>./archive/Actor_01/03-01-01-01-02-02-01.wav</td>\n",
       "    </tr>\n",
       "    <tr>\n",
       "      <th>4</th>\n",
       "      <td>neutral</td>\n",
       "      <td>./archive/Actor_01/03-01-02-01-01-01-01.wav</td>\n",
       "    </tr>\n",
       "  </tbody>\n",
       "</table>\n",
       "</div>"
      ],
      "text/plain": [
       "  emotion_id                                    file_path\n",
       "0    neutral  ./archive/Actor_01/03-01-01-01-01-01-01.wav\n",
       "1    neutral  ./archive/Actor_01/03-01-01-01-01-02-01.wav\n",
       "2    neutral  ./archive/Actor_01/03-01-01-01-02-01-01.wav\n",
       "3    neutral  ./archive/Actor_01/03-01-01-01-02-02-01.wav\n",
       "4    neutral  ./archive/Actor_01/03-01-02-01-01-01-01.wav"
      ]
     },
     "execution_count": 6,
     "metadata": {},
     "output_type": "execute_result"
    }
   ],
   "source": [
    "ravdess_df.head()"
   ]
  },
  {
   "cell_type": "code",
   "execution_count": 7,
   "metadata": {},
   "outputs": [
    {
     "data": {
      "text/plain": [
       "emotion_id\n",
       "neutral     288\n",
       "happy       192\n",
       "sad         192\n",
       "angry       192\n",
       "fear        192\n",
       "disgust     192\n",
       "surprise    192\n",
       "Name: count, dtype: int64"
      ]
     },
     "execution_count": 7,
     "metadata": {},
     "output_type": "execute_result"
    }
   ],
   "source": [
    "ravdess_df.emotion_id.value_counts()"
   ]
  },
  {
   "cell_type": "markdown",
   "metadata": {},
   "source": [
    "### **CREMA-D**"
   ]
  },
  {
   "cell_type": "code",
   "execution_count": 8,
   "metadata": {},
   "outputs": [],
   "source": [
    "cremad = \"./archive/AudioWAV/\""
   ]
  },
  {
   "cell_type": "code",
   "execution_count": 9,
   "metadata": {},
   "outputs": [],
   "source": [
    "emotion_id_cremad, file_path_cremad = generate_paths_csv(type='cremad', directory_path=cremad)"
   ]
  },
  {
   "cell_type": "code",
   "execution_count": 10,
   "metadata": {},
   "outputs": [],
   "source": [
    "emotion_df = pd.DataFrame(emotion_id_cremad, columns=['emotion_id'])\n",
    "path_df = pd.DataFrame(file_path_cremad, columns=['file_path'])\n",
    "cremad_df = pd.concat([emotion_df, path_df], axis=1)"
   ]
  },
  {
   "cell_type": "code",
   "execution_count": 11,
   "metadata": {},
   "outputs": [
    {
     "data": {
      "text/html": [
       "<div>\n",
       "<style scoped>\n",
       "    .dataframe tbody tr th:only-of-type {\n",
       "        vertical-align: middle;\n",
       "    }\n",
       "\n",
       "    .dataframe tbody tr th {\n",
       "        vertical-align: top;\n",
       "    }\n",
       "\n",
       "    .dataframe thead th {\n",
       "        text-align: right;\n",
       "    }\n",
       "</style>\n",
       "<table border=\"1\" class=\"dataframe\">\n",
       "  <thead>\n",
       "    <tr style=\"text-align: right;\">\n",
       "      <th></th>\n",
       "      <th>emotion_id</th>\n",
       "      <th>file_path</th>\n",
       "    </tr>\n",
       "  </thead>\n",
       "  <tbody>\n",
       "    <tr>\n",
       "      <th>0</th>\n",
       "      <td>angry</td>\n",
       "      <td>./archive/AudioWAV/1001_DFA_ANG_XX.wav</td>\n",
       "    </tr>\n",
       "    <tr>\n",
       "      <th>1</th>\n",
       "      <td>disgust</td>\n",
       "      <td>./archive/AudioWAV/1001_DFA_DIS_XX.wav</td>\n",
       "    </tr>\n",
       "    <tr>\n",
       "      <th>2</th>\n",
       "      <td>fear</td>\n",
       "      <td>./archive/AudioWAV/1001_DFA_FEA_XX.wav</td>\n",
       "    </tr>\n",
       "    <tr>\n",
       "      <th>3</th>\n",
       "      <td>happy</td>\n",
       "      <td>./archive/AudioWAV/1001_DFA_HAP_XX.wav</td>\n",
       "    </tr>\n",
       "    <tr>\n",
       "      <th>4</th>\n",
       "      <td>neutral</td>\n",
       "      <td>./archive/AudioWAV/1001_DFA_NEU_XX.wav</td>\n",
       "    </tr>\n",
       "  </tbody>\n",
       "</table>\n",
       "</div>"
      ],
      "text/plain": [
       "  emotion_id                               file_path\n",
       "0      angry  ./archive/AudioWAV/1001_DFA_ANG_XX.wav\n",
       "1    disgust  ./archive/AudioWAV/1001_DFA_DIS_XX.wav\n",
       "2       fear  ./archive/AudioWAV/1001_DFA_FEA_XX.wav\n",
       "3      happy  ./archive/AudioWAV/1001_DFA_HAP_XX.wav\n",
       "4    neutral  ./archive/AudioWAV/1001_DFA_NEU_XX.wav"
      ]
     },
     "execution_count": 11,
     "metadata": {},
     "output_type": "execute_result"
    }
   ],
   "source": [
    "cremad_df.head()"
   ]
  },
  {
   "cell_type": "code",
   "execution_count": 12,
   "metadata": {},
   "outputs": [
    {
     "data": {
      "text/plain": [
       "emotion_id\n",
       "angry      1271\n",
       "disgust    1271\n",
       "fear       1271\n",
       "happy      1271\n",
       "sad        1271\n",
       "neutral    1087\n",
       "Name: count, dtype: int64"
      ]
     },
     "execution_count": 12,
     "metadata": {},
     "output_type": "execute_result"
    }
   ],
   "source": [
    "cremad_df.emotion_id.value_counts()"
   ]
  },
  {
   "cell_type": "markdown",
   "metadata": {},
   "source": [
    "### **Tess**"
   ]
  },
  {
   "cell_type": "code",
   "execution_count": 13,
   "metadata": {},
   "outputs": [],
   "source": [
    "tess = \"./archive/TESS Toronto emotional speech set data/\""
   ]
  },
  {
   "cell_type": "code",
   "execution_count": 14,
   "metadata": {},
   "outputs": [],
   "source": [
    "emotion_id_tess, file_path_tess = generate_paths_csv(type='tess', directory_path=tess)"
   ]
  },
  {
   "cell_type": "code",
   "execution_count": 15,
   "metadata": {},
   "outputs": [],
   "source": [
    "emotion_df = pd.DataFrame(emotion_id_tess, columns=['emotion_id'])\n",
    "path_df = pd.DataFrame(file_path_tess, columns=['file_path'])\n",
    "tess_df = pd.concat([emotion_df, path_df], axis=1)"
   ]
  },
  {
   "cell_type": "code",
   "execution_count": 16,
   "metadata": {},
   "outputs": [
    {
     "data": {
      "text/html": [
       "<div>\n",
       "<style scoped>\n",
       "    .dataframe tbody tr th:only-of-type {\n",
       "        vertical-align: middle;\n",
       "    }\n",
       "\n",
       "    .dataframe tbody tr th {\n",
       "        vertical-align: top;\n",
       "    }\n",
       "\n",
       "    .dataframe thead th {\n",
       "        text-align: right;\n",
       "    }\n",
       "</style>\n",
       "<table border=\"1\" class=\"dataframe\">\n",
       "  <thead>\n",
       "    <tr style=\"text-align: right;\">\n",
       "      <th></th>\n",
       "      <th>emotion_id</th>\n",
       "      <th>file_path</th>\n",
       "    </tr>\n",
       "  </thead>\n",
       "  <tbody>\n",
       "    <tr>\n",
       "      <th>0</th>\n",
       "      <td>angry</td>\n",
       "      <td>./archive/TESS Toronto emotional speech set da...</td>\n",
       "    </tr>\n",
       "    <tr>\n",
       "      <th>1</th>\n",
       "      <td>angry</td>\n",
       "      <td>./archive/TESS Toronto emotional speech set da...</td>\n",
       "    </tr>\n",
       "    <tr>\n",
       "      <th>2</th>\n",
       "      <td>angry</td>\n",
       "      <td>./archive/TESS Toronto emotional speech set da...</td>\n",
       "    </tr>\n",
       "    <tr>\n",
       "      <th>3</th>\n",
       "      <td>angry</td>\n",
       "      <td>./archive/TESS Toronto emotional speech set da...</td>\n",
       "    </tr>\n",
       "    <tr>\n",
       "      <th>4</th>\n",
       "      <td>angry</td>\n",
       "      <td>./archive/TESS Toronto emotional speech set da...</td>\n",
       "    </tr>\n",
       "  </tbody>\n",
       "</table>\n",
       "</div>"
      ],
      "text/plain": [
       "  emotion_id                                          file_path\n",
       "0      angry  ./archive/TESS Toronto emotional speech set da...\n",
       "1      angry  ./archive/TESS Toronto emotional speech set da...\n",
       "2      angry  ./archive/TESS Toronto emotional speech set da...\n",
       "3      angry  ./archive/TESS Toronto emotional speech set da...\n",
       "4      angry  ./archive/TESS Toronto emotional speech set da..."
      ]
     },
     "execution_count": 16,
     "metadata": {},
     "output_type": "execute_result"
    }
   ],
   "source": [
    "tess_df.head()"
   ]
  },
  {
   "cell_type": "code",
   "execution_count": 17,
   "metadata": {},
   "outputs": [
    {
     "data": {
      "text/plain": [
       "emotion_id\n",
       "angry       400\n",
       "disgust     400\n",
       "fear        400\n",
       "happy       400\n",
       "neutral     400\n",
       "surprise    400\n",
       "sad         400\n",
       "Name: count, dtype: int64"
      ]
     },
     "execution_count": 17,
     "metadata": {},
     "output_type": "execute_result"
    }
   ],
   "source": [
    "tess_df.emotion_id.value_counts()"
   ]
  },
  {
   "cell_type": "markdown",
   "metadata": {},
   "source": [
    "### **SAVEE**"
   ]
  },
  {
   "cell_type": "code",
   "execution_count": 18,
   "metadata": {},
   "outputs": [],
   "source": [
    "savee = \"./archive/ALL/\""
   ]
  },
  {
   "cell_type": "code",
   "execution_count": 19,
   "metadata": {},
   "outputs": [],
   "source": [
    "emotion_id_savee, file_path_savee = generate_paths_csv(type='savee', directory_path=savee)"
   ]
  },
  {
   "cell_type": "code",
   "execution_count": 20,
   "metadata": {},
   "outputs": [],
   "source": [
    "emotion_df = pd.DataFrame(emotion_id_savee, columns=['emotion_id'])\n",
    "path_df = pd.DataFrame(file_path_savee, columns=['file_path'])\n",
    "savee_df = pd.concat([emotion_df, path_df], axis=1)"
   ]
  },
  {
   "cell_type": "code",
   "execution_count": 21,
   "metadata": {},
   "outputs": [
    {
     "data": {
      "text/html": [
       "<div>\n",
       "<style scoped>\n",
       "    .dataframe tbody tr th:only-of-type {\n",
       "        vertical-align: middle;\n",
       "    }\n",
       "\n",
       "    .dataframe tbody tr th {\n",
       "        vertical-align: top;\n",
       "    }\n",
       "\n",
       "    .dataframe thead th {\n",
       "        text-align: right;\n",
       "    }\n",
       "</style>\n",
       "<table border=\"1\" class=\"dataframe\">\n",
       "  <thead>\n",
       "    <tr style=\"text-align: right;\">\n",
       "      <th></th>\n",
       "      <th>emotion_id</th>\n",
       "      <th>file_path</th>\n",
       "    </tr>\n",
       "  </thead>\n",
       "  <tbody>\n",
       "    <tr>\n",
       "      <th>0</th>\n",
       "      <td>angry</td>\n",
       "      <td>./archive/ALL/DC_a01.wav</td>\n",
       "    </tr>\n",
       "    <tr>\n",
       "      <th>1</th>\n",
       "      <td>angry</td>\n",
       "      <td>./archive/ALL/DC_a02.wav</td>\n",
       "    </tr>\n",
       "    <tr>\n",
       "      <th>2</th>\n",
       "      <td>angry</td>\n",
       "      <td>./archive/ALL/DC_a03.wav</td>\n",
       "    </tr>\n",
       "    <tr>\n",
       "      <th>3</th>\n",
       "      <td>angry</td>\n",
       "      <td>./archive/ALL/DC_a04.wav</td>\n",
       "    </tr>\n",
       "    <tr>\n",
       "      <th>4</th>\n",
       "      <td>angry</td>\n",
       "      <td>./archive/ALL/DC_a05.wav</td>\n",
       "    </tr>\n",
       "  </tbody>\n",
       "</table>\n",
       "</div>"
      ],
      "text/plain": [
       "  emotion_id                 file_path\n",
       "0      angry  ./archive/ALL/DC_a01.wav\n",
       "1      angry  ./archive/ALL/DC_a02.wav\n",
       "2      angry  ./archive/ALL/DC_a03.wav\n",
       "3      angry  ./archive/ALL/DC_a04.wav\n",
       "4      angry  ./archive/ALL/DC_a05.wav"
      ]
     },
     "execution_count": 21,
     "metadata": {},
     "output_type": "execute_result"
    }
   ],
   "source": [
    "savee_df.head()"
   ]
  },
  {
   "cell_type": "code",
   "execution_count": 22,
   "metadata": {},
   "outputs": [
    {
     "data": {
      "text/plain": [
       "emotion_id\n",
       "neutral     120\n",
       "angry        60\n",
       "disgust      60\n",
       "fear         60\n",
       "happy        60\n",
       "sad          60\n",
       "surprise     60\n",
       "Name: count, dtype: int64"
      ]
     },
     "execution_count": 22,
     "metadata": {},
     "output_type": "execute_result"
    }
   ],
   "source": [
    "savee_df.emotion_id.value_counts()"
   ]
  },
  {
   "cell_type": "markdown",
   "metadata": {},
   "source": [
    "### **Merge datasets**\n",
    "\n",
    "Now that we have the four datasets loaded, it's time to merge them into one"
   ]
  },
  {
   "cell_type": "code",
   "execution_count": 23,
   "metadata": {},
   "outputs": [],
   "source": [
    "df = pd.concat([ravdess_df, cremad_df, tess_df, savee_df], axis = 0)\n",
    "df.to_csv(\"./data/dataset.csv\",index=False)"
   ]
  },
  {
   "cell_type": "code",
   "execution_count": 24,
   "metadata": {},
   "outputs": [
    {
     "data": {
      "text/html": [
       "<div>\n",
       "<style scoped>\n",
       "    .dataframe tbody tr th:only-of-type {\n",
       "        vertical-align: middle;\n",
       "    }\n",
       "\n",
       "    .dataframe tbody tr th {\n",
       "        vertical-align: top;\n",
       "    }\n",
       "\n",
       "    .dataframe thead th {\n",
       "        text-align: right;\n",
       "    }\n",
       "</style>\n",
       "<table border=\"1\" class=\"dataframe\">\n",
       "  <thead>\n",
       "    <tr style=\"text-align: right;\">\n",
       "      <th></th>\n",
       "      <th>emotion_id</th>\n",
       "      <th>file_path</th>\n",
       "    </tr>\n",
       "  </thead>\n",
       "  <tbody>\n",
       "    <tr>\n",
       "      <th>0</th>\n",
       "      <td>neutral</td>\n",
       "      <td>./archive/Actor_01/03-01-01-01-01-01-01.wav</td>\n",
       "    </tr>\n",
       "    <tr>\n",
       "      <th>1</th>\n",
       "      <td>neutral</td>\n",
       "      <td>./archive/Actor_01/03-01-01-01-01-02-01.wav</td>\n",
       "    </tr>\n",
       "    <tr>\n",
       "      <th>2</th>\n",
       "      <td>neutral</td>\n",
       "      <td>./archive/Actor_01/03-01-01-01-02-01-01.wav</td>\n",
       "    </tr>\n",
       "    <tr>\n",
       "      <th>3</th>\n",
       "      <td>neutral</td>\n",
       "      <td>./archive/Actor_01/03-01-01-01-02-02-01.wav</td>\n",
       "    </tr>\n",
       "    <tr>\n",
       "      <th>4</th>\n",
       "      <td>neutral</td>\n",
       "      <td>./archive/Actor_01/03-01-02-01-01-01-01.wav</td>\n",
       "    </tr>\n",
       "  </tbody>\n",
       "</table>\n",
       "</div>"
      ],
      "text/plain": [
       "  emotion_id                                    file_path\n",
       "0    neutral  ./archive/Actor_01/03-01-01-01-01-01-01.wav\n",
       "1    neutral  ./archive/Actor_01/03-01-01-01-01-02-01.wav\n",
       "2    neutral  ./archive/Actor_01/03-01-01-01-02-01-01.wav\n",
       "3    neutral  ./archive/Actor_01/03-01-01-01-02-02-01.wav\n",
       "4    neutral  ./archive/Actor_01/03-01-02-01-01-01-01.wav"
      ]
     },
     "execution_count": 24,
     "metadata": {},
     "output_type": "execute_result"
    }
   ],
   "source": [
    "df.head()"
   ]
  },
  {
   "cell_type": "code",
   "execution_count": 25,
   "metadata": {},
   "outputs": [
    {
     "data": {
      "text/plain": [
       "emotion_id\n",
       "happy       1923\n",
       "sad         1923\n",
       "angry       1923\n",
       "fear        1923\n",
       "disgust     1923\n",
       "neutral     1895\n",
       "surprise     652\n",
       "Name: count, dtype: int64"
      ]
     },
     "execution_count": 25,
     "metadata": {},
     "output_type": "execute_result"
    }
   ],
   "source": [
    "df.emotion_id.value_counts()"
   ]
  }
 ],
 "metadata": {
  "kernelspec": {
   "display_name": "Python 3",
   "language": "python",
   "name": "python3"
  },
  "language_info": {
   "codemirror_mode": {
    "name": "ipython",
    "version": 3
   },
   "file_extension": ".py",
   "mimetype": "text/x-python",
   "name": "python",
   "nbconvert_exporter": "python",
   "pygments_lexer": "ipython3",
   "version": "3.12.5"
  }
 },
 "nbformat": 4,
 "nbformat_minor": 2
}
