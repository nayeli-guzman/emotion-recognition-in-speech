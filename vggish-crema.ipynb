{
 "cells": [
  {
   "cell_type": "markdown",
   "metadata": {},
   "source": [
    "# **Clustering | Human Activity**\n",
    "\n",
    "## **Load packages**"
   ]
  },
  {
   "cell_type": "code",
   "execution_count": null,
   "metadata": {},
   "outputs": [],
   "source": [
    "import pandas as pd\n",
    "import os\n",
    "import shutil\n",
    "import numpy as np\n",
    "from collections import defaultdict\n",
    "import matplotlib.pyplot as plt\n",
    "import seaborn as sns\n"
   ]
  },
  {
   "cell_type": "markdown",
   "metadata": {},
   "source": [
    "## **Load datasets**"
   ]
  },
  {
   "cell_type": "markdown",
   "metadata": {},
   "source": [
    "## **Useful functions**"
   ]
  },
  {
   "cell_type": "code",
   "execution_count": null,
   "metadata": {},
   "outputs": [],
   "source": [
    "import os\n",
    "import pandas as pd\n",
    "\n",
    "def write_audio_paths_txt(directory_path: str, output_name: str):\n",
    "    \"\"\"\n",
    "    This function writes the paths of audio files in a .txt file.\n",
    "    \n",
    "    Args:\n",
    "        directory_path (str): Path to the directory where the audio files are located.\n",
    "        output_name (str): The name of the output .txt file.\n",
    "    \"\"\"\n",
    "    if not os.path.exists(directory_path):\n",
    "        raise FileNotFoundError(f\"The directory {directory_path} does not exist.\")\n",
    "    \n",
    "    paths = []\n",
    "    \n",
    "    for root, _, files in os.walk(directory_path):\n",
    "        for file in files:\n",
    "            if file.endswith(\".wav\"):\n",
    "                paths.append(os.path.join(root, file))\n",
    "    \n",
    "    output_file = f'./txt/{output_name}.txt'\n",
    "    os.makedirs(os.path.dirname(output_file), exist_ok=True)\n",
    "    \n",
    "    with open(output_file, 'w') as f:\n",
    "        for path in paths:\n",
    "            f.write(f\"{path.replace('\\\\', '/')}\\n\")\n",
    "    \n",
    "    print(f\"Archivo: {output_file} creado\")\n",
    "\n",
    "def create_directories(base_directory):\n",
    "\n",
    "    \n",
    "    # Crear el directorio principal si no existe\n",
    "    if not os.path.exists(base_directory):\n",
    "        os.mkdir(base_directory)\n",
    "    \n",
    "    # Crear subdirectorios desde Author 1 hasta Author 91\n",
    "    for i in range(1, 92):\n",
    "        author_directory = os.path.join(base_directory, f\"Author_{i}\")\n",
    "        if not os.path.exists(author_directory):\n",
    "            os.mkdir(author_directory)\n",
    "    \n",
    "    print(\"Directorios creados exitosamente.\")\n",
    "\n",
    "def move_files_to_authors(source_directory, file_extension, destination_directory):\n",
    "    for file_name in os.listdir(source_directory):\n",
    "        if file_name.endswith(file_extension):\n",
    "            author_number = int(file_name[2:4])\n",
    "            author_folder = os.path.join(destination_directory, f\"Author_{author_number}\")\n",
    "            \n",
    "            if os.path.exists(author_folder):\n",
    "                shutil.move(os.path.join(source_directory, file_name), author_folder)\n",
    "                print(f\"Movido: {file_name} -> {author_folder}\")\n",
    "            else:\n",
    "                print(f\"No existe la carpeta para {file_name}, revisa el nombre.\")\n"
   ]
  },
  {
   "cell_type": "markdown",
   "metadata": {},
   "source": [
    "Now we need to create the .txt with all the audio paths"
   ]
  },
  {
   "cell_type": "code",
   "execution_count": 19,
   "metadata": {},
   "outputs": [
    {
     "name": "stdout",
     "output_type": "stream",
     "text": [
      "Finished writing audio file paths to ./txt/audio_paths.txt\n"
     ]
    }
   ],
   "source": [
    "directory = 'C:/Users/archive/AudioWAV' # pls download the .zip w the videos and place them in the 'videos' directory\n",
    "\n",
    "paths =  [f'C:/Users/archive/AudioWAV/']\n",
    "output_txt_name = \"audio_paths\"\n",
    "write_audio_paths_txt(directory, output_txt_name)\n"
   ]
  },
  {
   "cell_type": "markdown",
   "metadata": {},
   "source": [
    "Ahora que tenemos todos los path de los videos almacenados en un `.txt`  podemos usar video_features para realizar la extracción de caracteristicas correspondiente.\n",
    "\n",
    "Para esto primero clonamos el repositorio de video_features e instalamos las dependencias necesarias dentro de este directorio/repositorio:"
   ]
  },
  {
   "cell_type": "markdown",
   "metadata": {},
   "source": [
    "```bash\n",
    "git clone https://github.com/v-iashin/video_features.git\n",
    "cd video_features"
   ]
  },
  {
   "cell_type": "markdown",
   "metadata": {},
   "source": [
    "Para realizar la instalación de dependencias, necesitas tener anaconda/miniconda instalado"
   ]
  },
  {
   "cell_type": "markdown",
   "metadata": {},
   "source": [
    "```bash\n",
    "conda create -n video_features\n",
    "conda install pytorch torchvision torchaudio pytorch-cuda=12.1 -c pytorch -c nvidia\n",
    "conda install -c conda-forge omegaconf scipy tqdm pytest opencv\n",
    "conda install -c conda-forge av"
   ]
  },
  {
   "cell_type": "markdown",
   "metadata": {},
   "source": [
    "Con esto hecho, ya se puede realizar la extracción de caracteristicas en la terminal con el siguiente comando:"
   ]
  },
  {
   "cell_type": "markdown",
   "metadata": {},
   "source": [
    "```bash\n",
    "\n",
    "python main.py  \\ feature_type=vggish  \\ device=\"cuda:0\"   \\ file_with_video_paths=\"../txt/audio_paths.txt\"    \\ on_extraction=save_numpy   \\ output_path=\"../extraction/\""
   ]
  },
  {
   "cell_type": "markdown",
   "metadata": {},
   "source": [
    "Ejecutando lo anterior, se crean archivos `.npy` dentro del directorio 'extraction'. Cada archivo le corresponde a la extracción de características de un video."
   ]
  },
  {
   "cell_type": "markdown",
   "metadata": {},
   "source": [
    "No obstante estan desordenados, es por eso que debemos ordenar por actor"
   ]
  },
  {
   "cell_type": "code",
   "execution_count": null,
   "metadata": {},
   "outputs": [],
   "source": [
    "create_directories(\"archive/AudioWAV\")\n",
    "create_directories(\"extraction/vggish\")\n",
    "move_files_to_authors(\"C:/Users/archive/AudioWAV\", \".wav\", \"archive/AudioWAV\")\n",
    "move_files_to_authors(\"./extraction/vggish\",\".npy\",\"extraction/vggish\")"
   ]
  }
 ],
 "metadata": {
  "kernelspec": {
   "display_name": "base",
   "language": "python",
   "name": "python3"
  },
  "language_info": {
   "codemirror_mode": {
    "name": "ipython",
    "version": 3
   },
   "file_extension": ".py",
   "mimetype": "text/x-python",
   "name": "python",
   "nbconvert_exporter": "python",
   "pygments_lexer": "ipython3",
   "version": "3.12.7"
  }
 },
 "nbformat": 4,
 "nbformat_minor": 2
}
